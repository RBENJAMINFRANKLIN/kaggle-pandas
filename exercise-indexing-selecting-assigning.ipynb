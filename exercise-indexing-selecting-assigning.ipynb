{
 "cells": [
  {
   "cell_type": "markdown",
   "id": "3f36cec2",
   "metadata": {
    "papermill": {
     "duration": 0.005269,
     "end_time": "2025-05-22T18:52:46.469931",
     "exception": false,
     "start_time": "2025-05-22T18:52:46.464662",
     "status": "completed"
    },
    "tags": []
   },
   "source": [
    "**This notebook is an exercise in the [Pandas](https://www.kaggle.com/learn/pandas) course.  You can reference the tutorial at [this link](https://www.kaggle.com/residentmario/indexing-selecting-assigning).**\n",
    "\n",
    "---\n"
   ]
  },
  {
   "cell_type": "markdown",
   "id": "d53ed11c",
   "metadata": {
    "papermill": {
     "duration": 0.004,
     "end_time": "2025-05-22T18:52:46.478460",
     "exception": false,
     "start_time": "2025-05-22T18:52:46.474460",
     "status": "completed"
    },
    "tags": []
   },
   "source": [
    "# Introduction\n",
    "\n",
    "In this set of exercises we will work with the [Wine Reviews dataset](https://www.kaggle.com/zynicide/wine-reviews). "
   ]
  },
  {
   "cell_type": "markdown",
   "id": "c3000cba",
   "metadata": {
    "papermill": {
     "duration": 0.003938,
     "end_time": "2025-05-22T18:52:46.486586",
     "exception": false,
     "start_time": "2025-05-22T18:52:46.482648",
     "status": "completed"
    },
    "tags": []
   },
   "source": [
    "Run the following cell to load your data and some utility functions (including code to check your answers)."
   ]
  },
  {
   "cell_type": "code",
   "execution_count": 1,
   "id": "b453b5f7",
   "metadata": {
    "execution": {
     "iopub.execute_input": "2025-05-22T18:52:46.495694Z",
     "iopub.status.busy": "2025-05-22T18:52:46.495449Z",
     "iopub.status.idle": "2025-05-22T18:52:50.308534Z",
     "shell.execute_reply": "2025-05-22T18:52:50.307739Z"
    },
    "papermill": {
     "duration": 3.819205,
     "end_time": "2025-05-22T18:52:50.309931",
     "exception": false,
     "start_time": "2025-05-22T18:52:46.490726",
     "status": "completed"
    },
    "tags": []
   },
   "outputs": [
    {
     "name": "stdout",
     "output_type": "stream",
     "text": [
      "Setup complete.\n"
     ]
    }
   ],
   "source": [
    "import pandas as pd\n",
    "\n",
    "reviews = pd.read_csv(\"../input/wine-reviews/winemag-data-130k-v2.csv\", index_col=0)\n",
    "pd.set_option(\"display.max_rows\", 5)\n",
    "\n",
    "from learntools.core import binder; binder.bind(globals())\n",
    "from learntools.pandas.indexing_selecting_and_assigning import *\n",
    "print(\"Setup complete.\")"
   ]
  },
  {
   "cell_type": "markdown",
   "id": "8d8e2d46",
   "metadata": {
    "papermill": {
     "duration": 0.007037,
     "end_time": "2025-05-22T18:52:50.323875",
     "exception": false,
     "start_time": "2025-05-22T18:52:50.316838",
     "status": "completed"
    },
    "tags": []
   },
   "source": [
    "Look at an overview of your data by running the following line."
   ]
  },
  {
   "cell_type": "code",
   "execution_count": 2,
   "id": "9b4af77e",
   "metadata": {
    "execution": {
     "iopub.execute_input": "2025-05-22T18:52:50.336226Z",
     "iopub.status.busy": "2025-05-22T18:52:50.335751Z",
     "iopub.status.idle": "2025-05-22T18:52:50.361013Z",
     "shell.execute_reply": "2025-05-22T18:52:50.360282Z"
    },
    "papermill": {
     "duration": 0.031622,
     "end_time": "2025-05-22T18:52:50.362150",
     "exception": false,
     "start_time": "2025-05-22T18:52:50.330528",
     "status": "completed"
    },
    "tags": []
   },
   "outputs": [
    {
     "name": "stderr",
     "output_type": "stream",
     "text": [
      "/usr/local/lib/python3.11/dist-packages/pandas/io/formats/format.py:1458: RuntimeWarning: invalid value encountered in greater\n",
      "  has_large_values = (abs_vals > 1e6).any()\n",
      "/usr/local/lib/python3.11/dist-packages/pandas/io/formats/format.py:1459: RuntimeWarning: invalid value encountered in less\n",
      "  has_small_values = ((abs_vals < 10 ** (-self.digits)) & (abs_vals > 0)).any()\n",
      "/usr/local/lib/python3.11/dist-packages/pandas/io/formats/format.py:1459: RuntimeWarning: invalid value encountered in greater\n",
      "  has_small_values = ((abs_vals < 10 ** (-self.digits)) & (abs_vals > 0)).any()\n"
     ]
    },
    {
     "data": {
      "text/html": [
       "<div>\n",
       "<style scoped>\n",
       "    .dataframe tbody tr th:only-of-type {\n",
       "        vertical-align: middle;\n",
       "    }\n",
       "\n",
       "    .dataframe tbody tr th {\n",
       "        vertical-align: top;\n",
       "    }\n",
       "\n",
       "    .dataframe thead th {\n",
       "        text-align: right;\n",
       "    }\n",
       "</style>\n",
       "<table border=\"1\" class=\"dataframe\">\n",
       "  <thead>\n",
       "    <tr style=\"text-align: right;\">\n",
       "      <th></th>\n",
       "      <th>country</th>\n",
       "      <th>description</th>\n",
       "      <th>designation</th>\n",
       "      <th>points</th>\n",
       "      <th>price</th>\n",
       "      <th>province</th>\n",
       "      <th>region_1</th>\n",
       "      <th>region_2</th>\n",
       "      <th>taster_name</th>\n",
       "      <th>taster_twitter_handle</th>\n",
       "      <th>title</th>\n",
       "      <th>variety</th>\n",
       "      <th>winery</th>\n",
       "    </tr>\n",
       "  </thead>\n",
       "  <tbody>\n",
       "    <tr>\n",
       "      <th>0</th>\n",
       "      <td>Italy</td>\n",
       "      <td>Aromas include tropical fruit, broom, brimston...</td>\n",
       "      <td>Vulkà Bianco</td>\n",
       "      <td>87</td>\n",
       "      <td>NaN</td>\n",
       "      <td>Sicily &amp; Sardinia</td>\n",
       "      <td>Etna</td>\n",
       "      <td>NaN</td>\n",
       "      <td>Kerin O’Keefe</td>\n",
       "      <td>@kerinokeefe</td>\n",
       "      <td>Nicosia 2013 Vulkà Bianco  (Etna)</td>\n",
       "      <td>White Blend</td>\n",
       "      <td>Nicosia</td>\n",
       "    </tr>\n",
       "    <tr>\n",
       "      <th>1</th>\n",
       "      <td>Portugal</td>\n",
       "      <td>This is ripe and fruity, a wine that is smooth...</td>\n",
       "      <td>Avidagos</td>\n",
       "      <td>87</td>\n",
       "      <td>15.0</td>\n",
       "      <td>Douro</td>\n",
       "      <td>NaN</td>\n",
       "      <td>NaN</td>\n",
       "      <td>Roger Voss</td>\n",
       "      <td>@vossroger</td>\n",
       "      <td>Quinta dos Avidagos 2011 Avidagos Red (Douro)</td>\n",
       "      <td>Portuguese Red</td>\n",
       "      <td>Quinta dos Avidagos</td>\n",
       "    </tr>\n",
       "    <tr>\n",
       "      <th>2</th>\n",
       "      <td>US</td>\n",
       "      <td>Tart and snappy, the flavors of lime flesh and...</td>\n",
       "      <td>NaN</td>\n",
       "      <td>87</td>\n",
       "      <td>14.0</td>\n",
       "      <td>Oregon</td>\n",
       "      <td>Willamette Valley</td>\n",
       "      <td>Willamette Valley</td>\n",
       "      <td>Paul Gregutt</td>\n",
       "      <td>@paulgwine</td>\n",
       "      <td>Rainstorm 2013 Pinot Gris (Willamette Valley)</td>\n",
       "      <td>Pinot Gris</td>\n",
       "      <td>Rainstorm</td>\n",
       "    </tr>\n",
       "    <tr>\n",
       "      <th>3</th>\n",
       "      <td>US</td>\n",
       "      <td>Pineapple rind, lemon pith and orange blossom ...</td>\n",
       "      <td>Reserve Late Harvest</td>\n",
       "      <td>87</td>\n",
       "      <td>13.0</td>\n",
       "      <td>Michigan</td>\n",
       "      <td>Lake Michigan Shore</td>\n",
       "      <td>NaN</td>\n",
       "      <td>Alexander Peartree</td>\n",
       "      <td>NaN</td>\n",
       "      <td>St. Julian 2013 Reserve Late Harvest Riesling ...</td>\n",
       "      <td>Riesling</td>\n",
       "      <td>St. Julian</td>\n",
       "    </tr>\n",
       "    <tr>\n",
       "      <th>4</th>\n",
       "      <td>US</td>\n",
       "      <td>Much like the regular bottling from 2012, this...</td>\n",
       "      <td>Vintner's Reserve Wild Child Block</td>\n",
       "      <td>87</td>\n",
       "      <td>65.0</td>\n",
       "      <td>Oregon</td>\n",
       "      <td>Willamette Valley</td>\n",
       "      <td>Willamette Valley</td>\n",
       "      <td>Paul Gregutt</td>\n",
       "      <td>@paulgwine</td>\n",
       "      <td>Sweet Cheeks 2012 Vintner's Reserve Wild Child...</td>\n",
       "      <td>Pinot Noir</td>\n",
       "      <td>Sweet Cheeks</td>\n",
       "    </tr>\n",
       "  </tbody>\n",
       "</table>\n",
       "</div>"
      ],
      "text/plain": [
       "    country                                        description  \\\n",
       "0     Italy  Aromas include tropical fruit, broom, brimston...   \n",
       "1  Portugal  This is ripe and fruity, a wine that is smooth...   \n",
       "2        US  Tart and snappy, the flavors of lime flesh and...   \n",
       "3        US  Pineapple rind, lemon pith and orange blossom ...   \n",
       "4        US  Much like the regular bottling from 2012, this...   \n",
       "\n",
       "                          designation  points  price           province  \\\n",
       "0                        Vulkà Bianco      87    NaN  Sicily & Sardinia   \n",
       "1                            Avidagos      87   15.0              Douro   \n",
       "2                                 NaN      87   14.0             Oregon   \n",
       "3                Reserve Late Harvest      87   13.0           Michigan   \n",
       "4  Vintner's Reserve Wild Child Block      87   65.0             Oregon   \n",
       "\n",
       "              region_1           region_2         taster_name  \\\n",
       "0                 Etna                NaN       Kerin O’Keefe   \n",
       "1                  NaN                NaN          Roger Voss   \n",
       "2    Willamette Valley  Willamette Valley        Paul Gregutt   \n",
       "3  Lake Michigan Shore                NaN  Alexander Peartree   \n",
       "4    Willamette Valley  Willamette Valley        Paul Gregutt   \n",
       "\n",
       "  taster_twitter_handle                                              title  \\\n",
       "0          @kerinokeefe                  Nicosia 2013 Vulkà Bianco  (Etna)   \n",
       "1            @vossroger      Quinta dos Avidagos 2011 Avidagos Red (Douro)   \n",
       "2           @paulgwine       Rainstorm 2013 Pinot Gris (Willamette Valley)   \n",
       "3                   NaN  St. Julian 2013 Reserve Late Harvest Riesling ...   \n",
       "4           @paulgwine   Sweet Cheeks 2012 Vintner's Reserve Wild Child...   \n",
       "\n",
       "          variety               winery  \n",
       "0     White Blend              Nicosia  \n",
       "1  Portuguese Red  Quinta dos Avidagos  \n",
       "2      Pinot Gris            Rainstorm  \n",
       "3        Riesling           St. Julian  \n",
       "4      Pinot Noir         Sweet Cheeks  "
      ]
     },
     "execution_count": 2,
     "metadata": {},
     "output_type": "execute_result"
    }
   ],
   "source": [
    "reviews.head()"
   ]
  },
  {
   "cell_type": "markdown",
   "id": "ccf15984",
   "metadata": {
    "papermill": {
     "duration": 0.004725,
     "end_time": "2025-05-22T18:52:50.371950",
     "exception": false,
     "start_time": "2025-05-22T18:52:50.367225",
     "status": "completed"
    },
    "tags": []
   },
   "source": [
    "# Exercises"
   ]
  },
  {
   "cell_type": "markdown",
   "id": "0401417e",
   "metadata": {
    "papermill": {
     "duration": 0.00419,
     "end_time": "2025-05-22T18:52:50.380701",
     "exception": false,
     "start_time": "2025-05-22T18:52:50.376511",
     "status": "completed"
    },
    "tags": []
   },
   "source": [
    "## 1.\n",
    "\n",
    "Select the `description` column from `reviews` and assign the result to the variable `desc`."
   ]
  },
  {
   "cell_type": "code",
   "execution_count": 3,
   "id": "c6dbd5bb",
   "metadata": {
    "execution": {
     "iopub.execute_input": "2025-05-22T18:52:50.390406Z",
     "iopub.status.busy": "2025-05-22T18:52:50.390183Z",
     "iopub.status.idle": "2025-05-22T18:52:50.396158Z",
     "shell.execute_reply": "2025-05-22T18:52:50.395631Z"
    },
    "papermill": {
     "duration": 0.011998,
     "end_time": "2025-05-22T18:52:50.397170",
     "exception": false,
     "start_time": "2025-05-22T18:52:50.385172",
     "status": "completed"
    },
    "tags": []
   },
   "outputs": [
    {
     "data": {
      "application/javascript": [
       "parent.postMessage({\"jupyterEvent\": \"custom.exercise_interaction\", \"data\": {\"outcomeType\": 1, \"valueTowardsCompletion\": 0.1111111111111111, \"interactionType\": 1, \"questionType\": 1, \"questionId\": \"1_SelectDescCol\", \"learnToolsVersion\": \"0.3.5\", \"failureMessage\": \"\", \"exceptionClass\": \"\", \"trace\": \"\"}}, \"*\")"
      ],
      "text/plain": [
       "<IPython.core.display.Javascript object>"
      ]
     },
     "metadata": {},
     "output_type": "display_data"
    },
    {
     "data": {
      "text/markdown": [
       "<span style=\"color:#33cc33\">Correct</span>"
      ],
      "text/plain": [
       "Correct"
      ]
     },
     "metadata": {},
     "output_type": "display_data"
    }
   ],
   "source": [
    "# Your code here\n",
    "desc = reviews.description\n",
    "\n",
    "# Check your answer\n",
    "q1.check()"
   ]
  },
  {
   "cell_type": "markdown",
   "id": "de49d84a",
   "metadata": {
    "papermill": {
     "duration": 0.004921,
     "end_time": "2025-05-22T18:52:50.406793",
     "exception": false,
     "start_time": "2025-05-22T18:52:50.401872",
     "status": "completed"
    },
    "tags": []
   },
   "source": [
    "Follow-up question: what type of object is `desc`? If you're not sure, you can check by calling Python's `type` function: `type(desc)`."
   ]
  },
  {
   "cell_type": "code",
   "execution_count": 4,
   "id": "803b460d",
   "metadata": {
    "execution": {
     "iopub.execute_input": "2025-05-22T18:52:50.417431Z",
     "iopub.status.busy": "2025-05-22T18:52:50.417234Z",
     "iopub.status.idle": "2025-05-22T18:52:50.422280Z",
     "shell.execute_reply": "2025-05-22T18:52:50.421762Z"
    },
    "papermill": {
     "duration": 0.011868,
     "end_time": "2025-05-22T18:52:50.423303",
     "exception": false,
     "start_time": "2025-05-22T18:52:50.411435",
     "status": "completed"
    },
    "tags": []
   },
   "outputs": [
    {
     "data": {
      "application/javascript": [
       "parent.postMessage({\"jupyterEvent\": \"custom.exercise_interaction\", \"data\": {\"interactionType\": 2, \"questionType\": 1, \"questionId\": \"1_SelectDescCol\", \"learnToolsVersion\": \"0.3.5\", \"valueTowardsCompletion\": 0.0, \"failureMessage\": \"\", \"exceptionClass\": \"\", \"trace\": \"\", \"outcomeType\": 4}}, \"*\")"
      ],
      "text/plain": [
       "<IPython.core.display.Javascript object>"
      ]
     },
     "metadata": {},
     "output_type": "display_data"
    },
    {
     "data": {
      "text/markdown": [
       "<span style=\"color:#3366cc\">Hint:</span> As an example, say we would like to select the column `column` from a DataFrame `table`.  Then we have two options: we can call either `table.column` or `table[\"column\"]`."
      ],
      "text/plain": [
       "Hint: As an example, say we would like to select the column `column` from a DataFrame `table`.  Then we have two options: we can call either `table.column` or `table[\"column\"]`."
      ]
     },
     "metadata": {},
     "output_type": "display_data"
    }
   ],
   "source": [
    "q1.hint()\n",
    "#q1.solution()"
   ]
  },
  {
   "cell_type": "markdown",
   "id": "efc34835",
   "metadata": {
    "papermill": {
     "duration": 0.004669,
     "end_time": "2025-05-22T18:52:50.432851",
     "exception": false,
     "start_time": "2025-05-22T18:52:50.428182",
     "status": "completed"
    },
    "tags": []
   },
   "source": [
    "## 2.\n",
    "\n",
    "Select the first value from the description column of `reviews`, assigning it to variable `first_description`."
   ]
  },
  {
   "cell_type": "code",
   "execution_count": 5,
   "id": "36f3291f",
   "metadata": {
    "execution": {
     "iopub.execute_input": "2025-05-22T18:52:50.443238Z",
     "iopub.status.busy": "2025-05-22T18:52:50.443012Z",
     "iopub.status.idle": "2025-05-22T18:52:50.449553Z",
     "shell.execute_reply": "2025-05-22T18:52:50.448869Z"
    },
    "papermill": {
     "duration": 0.013066,
     "end_time": "2025-05-22T18:52:50.450727",
     "exception": false,
     "start_time": "2025-05-22T18:52:50.437661",
     "status": "completed"
    },
    "tags": []
   },
   "outputs": [
    {
     "data": {
      "application/javascript": [
       "parent.postMessage({\"jupyterEvent\": \"custom.exercise_interaction\", \"data\": {\"outcomeType\": 1, \"valueTowardsCompletion\": 0.1111111111111111, \"interactionType\": 1, \"questionType\": 1, \"questionId\": \"2_FirstDesc\", \"learnToolsVersion\": \"0.3.5\", \"failureMessage\": \"\", \"exceptionClass\": \"\", \"trace\": \"\"}}, \"*\")"
      ],
      "text/plain": [
       "<IPython.core.display.Javascript object>"
      ]
     },
     "metadata": {},
     "output_type": "display_data"
    },
    {
     "data": {
      "text/markdown": [
       "<span style=\"color:#33cc33\">Correct:</span> \n",
       "\n",
       "\n",
       "```python\n",
       "first_description = reviews.description.iloc[0]\n",
       "```\n",
       "Note that while this is the preferred way to obtain the entry in the DataFrame, many other options will return a valid result, such as `reviews.description.loc[0]`, `reviews.description[0]`, and more!  \n"
      ],
      "text/plain": [
       "Correct: \n",
       "\n",
       "\n",
       "```python\n",
       "first_description = reviews.description.iloc[0]\n",
       "```\n",
       "Note that while this is the preferred way to obtain the entry in the DataFrame, many other options will return a valid result, such as `reviews.description.loc[0]`, `reviews.description[0]`, and more!  "
      ]
     },
     "metadata": {},
     "output_type": "display_data"
    },
    {
     "data": {
      "text/plain": [
       "\"Aromas include tropical fruit, broom, brimstone and dried herb. The palate isn't overly expressive, offering unripened apple, citrus and dried sage alongside brisk acidity.\""
      ]
     },
     "execution_count": 5,
     "metadata": {},
     "output_type": "execute_result"
    }
   ],
   "source": [
    "first_description = reviews.description.iloc[0]\n",
    "\n",
    "# Check your answer\n",
    "q2.check()\n",
    "first_description"
   ]
  },
  {
   "cell_type": "code",
   "execution_count": 6,
   "id": "4459144b",
   "metadata": {
    "execution": {
     "iopub.execute_input": "2025-05-22T18:52:50.461289Z",
     "iopub.status.busy": "2025-05-22T18:52:50.461122Z",
     "iopub.status.idle": "2025-05-22T18:52:50.465923Z",
     "shell.execute_reply": "2025-05-22T18:52:50.465377Z"
    },
    "papermill": {
     "duration": 0.011224,
     "end_time": "2025-05-22T18:52:50.466954",
     "exception": false,
     "start_time": "2025-05-22T18:52:50.455730",
     "status": "completed"
    },
    "tags": []
   },
   "outputs": [
    {
     "data": {
      "application/javascript": [
       "parent.postMessage({\"jupyterEvent\": \"custom.exercise_interaction\", \"data\": {\"interactionType\": 2, \"questionType\": 1, \"questionId\": \"2_FirstDesc\", \"learnToolsVersion\": \"0.3.5\", \"valueTowardsCompletion\": 0.0, \"failureMessage\": \"\", \"exceptionClass\": \"\", \"trace\": \"\", \"outcomeType\": 4}}, \"*\")"
      ],
      "text/plain": [
       "<IPython.core.display.Javascript object>"
      ]
     },
     "metadata": {},
     "output_type": "display_data"
    },
    {
     "data": {
      "text/markdown": [
       "<span style=\"color:#3366cc\">Hint:</span> To obtain a specific entry (corresponding to column `column` and row `i`) in a DataFrame `table`, we can call `table.column.iloc[i]`.  Remember that Python indexing starts at 0!"
      ],
      "text/plain": [
       "Hint: To obtain a specific entry (corresponding to column `column` and row `i`) in a DataFrame `table`, we can call `table.column.iloc[i]`.  Remember that Python indexing starts at 0!"
      ]
     },
     "metadata": {},
     "output_type": "display_data"
    }
   ],
   "source": [
    "q2.hint()\n",
    "#q2.solution()"
   ]
  },
  {
   "cell_type": "markdown",
   "id": "435dd957",
   "metadata": {
    "papermill": {
     "duration": 0.00493,
     "end_time": "2025-05-22T18:52:50.476888",
     "exception": false,
     "start_time": "2025-05-22T18:52:50.471958",
     "status": "completed"
    },
    "tags": []
   },
   "source": [
    "## 3. \n",
    "\n",
    "Select the first row of data (the first record) from `reviews`, assigning it to the variable `first_row`."
   ]
  },
  {
   "cell_type": "code",
   "execution_count": 7,
   "id": "a55ef4db",
   "metadata": {
    "execution": {
     "iopub.execute_input": "2025-05-22T18:52:50.487469Z",
     "iopub.status.busy": "2025-05-22T18:52:50.487305Z",
     "iopub.status.idle": "2025-05-22T18:52:50.494517Z",
     "shell.execute_reply": "2025-05-22T18:52:50.493993Z"
    },
    "papermill": {
     "duration": 0.013603,
     "end_time": "2025-05-22T18:52:50.495449",
     "exception": false,
     "start_time": "2025-05-22T18:52:50.481846",
     "status": "completed"
    },
    "tags": []
   },
   "outputs": [
    {
     "data": {
      "application/javascript": [
       "parent.postMessage({\"jupyterEvent\": \"custom.exercise_interaction\", \"data\": {\"outcomeType\": 1, \"valueTowardsCompletion\": 0.1111111111111111, \"interactionType\": 1, \"questionType\": 1, \"questionId\": \"3_FirstRow\", \"learnToolsVersion\": \"0.3.5\", \"failureMessage\": \"\", \"exceptionClass\": \"\", \"trace\": \"\"}}, \"*\")"
      ],
      "text/plain": [
       "<IPython.core.display.Javascript object>"
      ]
     },
     "metadata": {},
     "output_type": "display_data"
    },
    {
     "data": {
      "text/markdown": [
       "<span style=\"color:#33cc33\">Correct</span>"
      ],
      "text/plain": [
       "Correct"
      ]
     },
     "metadata": {},
     "output_type": "display_data"
    },
    {
     "data": {
      "text/plain": [
       "country                                                    Italy\n",
       "description    Aromas include tropical fruit, broom, brimston...\n",
       "                                     ...                        \n",
       "variety                                              White Blend\n",
       "winery                                                   Nicosia\n",
       "Name: 0, Length: 13, dtype: object"
      ]
     },
     "execution_count": 7,
     "metadata": {},
     "output_type": "execute_result"
    }
   ],
   "source": [
    "first_row = reviews.iloc[0]\n",
    "\n",
    "# Check your answer\n",
    "q3.check()\n",
    "first_row"
   ]
  },
  {
   "cell_type": "code",
   "execution_count": 8,
   "id": "b8182aff",
   "metadata": {
    "execution": {
     "iopub.execute_input": "2025-05-22T18:52:50.506928Z",
     "iopub.status.busy": "2025-05-22T18:52:50.506726Z",
     "iopub.status.idle": "2025-05-22T18:52:50.513469Z",
     "shell.execute_reply": "2025-05-22T18:52:50.512953Z"
    },
    "papermill": {
     "duration": 0.013706,
     "end_time": "2025-05-22T18:52:50.514463",
     "exception": false,
     "start_time": "2025-05-22T18:52:50.500757",
     "status": "completed"
    },
    "tags": []
   },
   "outputs": [
    {
     "data": {
      "application/javascript": [
       "parent.postMessage({\"jupyterEvent\": \"custom.exercise_interaction\", \"data\": {\"interactionType\": 2, \"questionType\": 1, \"questionId\": \"3_FirstRow\", \"learnToolsVersion\": \"0.3.5\", \"valueTowardsCompletion\": 0.0, \"failureMessage\": \"\", \"exceptionClass\": \"\", \"trace\": \"\", \"outcomeType\": 4}}, \"*\")"
      ],
      "text/plain": [
       "<IPython.core.display.Javascript object>"
      ]
     },
     "metadata": {},
     "output_type": "display_data"
    },
    {
     "data": {
      "text/markdown": [
       "<span style=\"color:#3366cc\">Hint:</span> To obtain a specific row of a DataFrame, we can use the `iloc` operator.  For more information, see the section on **Index-based selection** in the [reference component](https://www.kaggle.com/residentmario/indexing-selecting-assigning-reference)."
      ],
      "text/plain": [
       "Hint: To obtain a specific row of a DataFrame, we can use the `iloc` operator.  For more information, see the section on **Index-based selection** in the [reference component](https://www.kaggle.com/residentmario/indexing-selecting-assigning-reference)."
      ]
     },
     "metadata": {},
     "output_type": "display_data"
    },
    {
     "data": {
      "application/javascript": [
       "parent.postMessage({\"jupyterEvent\": \"custom.exercise_interaction\", \"data\": {\"interactionType\": 3, \"questionType\": 1, \"questionId\": \"3_FirstRow\", \"learnToolsVersion\": \"0.3.5\", \"valueTowardsCompletion\": 0.0, \"failureMessage\": \"\", \"exceptionClass\": \"\", \"trace\": \"\", \"outcomeType\": 4}}, \"*\")"
      ],
      "text/plain": [
       "<IPython.core.display.Javascript object>"
      ]
     },
     "metadata": {},
     "output_type": "display_data"
    },
    {
     "data": {
      "text/markdown": [
       "<span style=\"color:#33cc99\">Solution:</span> \n",
       "```python\n",
       "first_row = reviews.iloc[0]\n",
       "```"
      ],
      "text/plain": [
       "Solution: \n",
       "```python\n",
       "first_row = reviews.iloc[0]\n",
       "```"
      ]
     },
     "metadata": {},
     "output_type": "display_data"
    }
   ],
   "source": [
    "q3.hint()\n",
    "q3.solution()"
   ]
  },
  {
   "cell_type": "markdown",
   "id": "31b3f77f",
   "metadata": {
    "papermill": {
     "duration": 0.005321,
     "end_time": "2025-05-22T18:52:50.525381",
     "exception": false,
     "start_time": "2025-05-22T18:52:50.520060",
     "status": "completed"
    },
    "tags": []
   },
   "source": [
    "## 4.\n",
    "\n",
    "Select the first 10 values from the `description` column in `reviews`, assigning the result to variable `first_descriptions`.\n",
    "\n",
    "Hint: format your output as a pandas Series."
   ]
  },
  {
   "cell_type": "code",
   "execution_count": 9,
   "id": "3e2772c1",
   "metadata": {
    "execution": {
     "iopub.execute_input": "2025-05-22T18:52:50.537038Z",
     "iopub.status.busy": "2025-05-22T18:52:50.536847Z",
     "iopub.status.idle": "2025-05-22T18:52:50.543993Z",
     "shell.execute_reply": "2025-05-22T18:52:50.543357Z"
    },
    "papermill": {
     "duration": 0.01407,
     "end_time": "2025-05-22T18:52:50.544969",
     "exception": false,
     "start_time": "2025-05-22T18:52:50.530899",
     "status": "completed"
    },
    "tags": []
   },
   "outputs": [
    {
     "data": {
      "application/javascript": [
       "parent.postMessage({\"jupyterEvent\": \"custom.exercise_interaction\", \"data\": {\"outcomeType\": 1, \"valueTowardsCompletion\": 0.1111111111111111, \"interactionType\": 1, \"questionType\": 1, \"questionId\": \"4_FirstDescs\", \"learnToolsVersion\": \"0.3.5\", \"failureMessage\": \"\", \"exceptionClass\": \"\", \"trace\": \"\"}}, \"*\")"
      ],
      "text/plain": [
       "<IPython.core.display.Javascript object>"
      ]
     },
     "metadata": {},
     "output_type": "display_data"
    },
    {
     "data": {
      "text/markdown": [
       "<span style=\"color:#33cc33\">Correct:</span> \n",
       "\n",
       "\n",
       "```python\n",
       "first_descriptions = reviews.description.iloc[:10]\n",
       "```\n",
       "Note that many other options will return a valid result, such as `desc.head(10)` and `reviews.loc[:9, \"description\"]`.    \n"
      ],
      "text/plain": [
       "Correct: \n",
       "\n",
       "\n",
       "```python\n",
       "first_descriptions = reviews.description.iloc[:10]\n",
       "```\n",
       "Note that many other options will return a valid result, such as `desc.head(10)` and `reviews.loc[:9, \"description\"]`.    "
      ]
     },
     "metadata": {},
     "output_type": "display_data"
    },
    {
     "data": {
      "text/plain": [
       "0    Aromas include tropical fruit, broom, brimston...\n",
       "1    This is ripe and fruity, a wine that is smooth...\n",
       "                           ...                        \n",
       "8    Savory dried thyme notes accent sunnier flavor...\n",
       "9    This has great depth of flavor with its fresh ...\n",
       "Name: description, Length: 10, dtype: object"
      ]
     },
     "execution_count": 9,
     "metadata": {},
     "output_type": "execute_result"
    }
   ],
   "source": [
    "first_descriptions = reviews.description.iloc[:10]\n",
    "\n",
    "# Check your answer\n",
    "q4.check()\n",
    "first_descriptions"
   ]
  },
  {
   "cell_type": "code",
   "execution_count": 10,
   "id": "0cbff488",
   "metadata": {
    "execution": {
     "iopub.execute_input": "2025-05-22T18:52:50.557743Z",
     "iopub.status.busy": "2025-05-22T18:52:50.557243Z",
     "iopub.status.idle": "2025-05-22T18:52:50.563994Z",
     "shell.execute_reply": "2025-05-22T18:52:50.563439Z"
    },
    "papermill": {
     "duration": 0.014168,
     "end_time": "2025-05-22T18:52:50.565010",
     "exception": false,
     "start_time": "2025-05-22T18:52:50.550842",
     "status": "completed"
    },
    "tags": []
   },
   "outputs": [
    {
     "data": {
      "application/javascript": [
       "parent.postMessage({\"jupyterEvent\": \"custom.exercise_interaction\", \"data\": {\"interactionType\": 2, \"questionType\": 1, \"questionId\": \"4_FirstDescs\", \"learnToolsVersion\": \"0.3.5\", \"valueTowardsCompletion\": 0.0, \"failureMessage\": \"\", \"exceptionClass\": \"\", \"trace\": \"\", \"outcomeType\": 4}}, \"*\")"
      ],
      "text/plain": [
       "<IPython.core.display.Javascript object>"
      ]
     },
     "metadata": {},
     "output_type": "display_data"
    },
    {
     "data": {
      "text/markdown": [
       "<span style=\"color:#3366cc\">Hint:</span> We can use either the `loc` or `iloc` operator to solve this problem.  For more information, see the sections on **Index-based selection** and **Label-based selection** in the [reference component](https://www.kaggle.com/residentmario/indexing-selecting-assigning-reference)."
      ],
      "text/plain": [
       "Hint: We can use either the `loc` or `iloc` operator to solve this problem.  For more information, see the sections on **Index-based selection** and **Label-based selection** in the [reference component](https://www.kaggle.com/residentmario/indexing-selecting-assigning-reference)."
      ]
     },
     "metadata": {},
     "output_type": "display_data"
    },
    {
     "data": {
      "application/javascript": [
       "parent.postMessage({\"jupyterEvent\": \"custom.exercise_interaction\", \"data\": {\"interactionType\": 3, \"questionType\": 1, \"questionId\": \"4_FirstDescs\", \"learnToolsVersion\": \"0.3.5\", \"valueTowardsCompletion\": 0.0, \"failureMessage\": \"\", \"exceptionClass\": \"\", \"trace\": \"\", \"outcomeType\": 4}}, \"*\")"
      ],
      "text/plain": [
       "<IPython.core.display.Javascript object>"
      ]
     },
     "metadata": {},
     "output_type": "display_data"
    },
    {
     "data": {
      "text/markdown": [
       "<span style=\"color:#33cc99\">Solution:</span> \n",
       "```python\n",
       "first_descriptions = reviews.description.iloc[:10]\n",
       "```\n",
       "Note that many other options will return a valid result, such as `desc.head(10)` and `reviews.loc[:9, \"description\"]`.    \n"
      ],
      "text/plain": [
       "Solution: \n",
       "```python\n",
       "first_descriptions = reviews.description.iloc[:10]\n",
       "```\n",
       "Note that many other options will return a valid result, such as `desc.head(10)` and `reviews.loc[:9, \"description\"]`.    "
      ]
     },
     "metadata": {},
     "output_type": "display_data"
    }
   ],
   "source": [
    "q4.hint()\n",
    "q4.solution()"
   ]
  },
  {
   "cell_type": "markdown",
   "id": "7c79f87e",
   "metadata": {
    "papermill": {
     "duration": 0.005856,
     "end_time": "2025-05-22T18:52:50.577012",
     "exception": false,
     "start_time": "2025-05-22T18:52:50.571156",
     "status": "completed"
    },
    "tags": []
   },
   "source": [
    "## 5.\n",
    "\n",
    "Select the records with index labels `1`, `2`, `3`, `5`, and `8`, assigning the result to the variable `sample_reviews`.\n",
    "\n",
    "In other words, generate the following DataFrame:\n",
    "\n",
    "![](https://storage.googleapis.com/kaggle-media/learn/images/sHZvI1O.png)"
   ]
  },
  {
   "cell_type": "code",
   "execution_count": 11,
   "id": "eb01d5ac",
   "metadata": {
    "execution": {
     "iopub.execute_input": "2025-05-22T18:52:50.589790Z",
     "iopub.status.busy": "2025-05-22T18:52:50.589582Z",
     "iopub.status.idle": "2025-05-22T18:52:50.602758Z",
     "shell.execute_reply": "2025-05-22T18:52:50.602083Z"
    },
    "papermill": {
     "duration": 0.020891,
     "end_time": "2025-05-22T18:52:50.603892",
     "exception": false,
     "start_time": "2025-05-22T18:52:50.583001",
     "status": "completed"
    },
    "tags": []
   },
   "outputs": [
    {
     "data": {
      "application/javascript": [
       "parent.postMessage({\"jupyterEvent\": \"custom.exercise_interaction\", \"data\": {\"outcomeType\": 1, \"valueTowardsCompletion\": 0.1111111111111111, \"interactionType\": 1, \"questionType\": 1, \"questionId\": \"5_SampleReviews\", \"learnToolsVersion\": \"0.3.5\", \"failureMessage\": \"\", \"exceptionClass\": \"\", \"trace\": \"\"}}, \"*\")"
      ],
      "text/plain": [
       "<IPython.core.display.Javascript object>"
      ]
     },
     "metadata": {},
     "output_type": "display_data"
    },
    {
     "data": {
      "text/markdown": [
       "<span style=\"color:#33cc33\">Correct</span>"
      ],
      "text/plain": [
       "Correct"
      ]
     },
     "metadata": {},
     "output_type": "display_data"
    },
    {
     "data": {
      "text/html": [
       "<div>\n",
       "<style scoped>\n",
       "    .dataframe tbody tr th:only-of-type {\n",
       "        vertical-align: middle;\n",
       "    }\n",
       "\n",
       "    .dataframe tbody tr th {\n",
       "        vertical-align: top;\n",
       "    }\n",
       "\n",
       "    .dataframe thead th {\n",
       "        text-align: right;\n",
       "    }\n",
       "</style>\n",
       "<table border=\"1\" class=\"dataframe\">\n",
       "  <thead>\n",
       "    <tr style=\"text-align: right;\">\n",
       "      <th></th>\n",
       "      <th>country</th>\n",
       "      <th>description</th>\n",
       "      <th>designation</th>\n",
       "      <th>points</th>\n",
       "      <th>price</th>\n",
       "      <th>province</th>\n",
       "      <th>region_1</th>\n",
       "      <th>region_2</th>\n",
       "      <th>taster_name</th>\n",
       "      <th>taster_twitter_handle</th>\n",
       "      <th>title</th>\n",
       "      <th>variety</th>\n",
       "      <th>winery</th>\n",
       "    </tr>\n",
       "  </thead>\n",
       "  <tbody>\n",
       "    <tr>\n",
       "      <th>1</th>\n",
       "      <td>Portugal</td>\n",
       "      <td>This is ripe and fruity, a wine that is smooth...</td>\n",
       "      <td>Avidagos</td>\n",
       "      <td>87</td>\n",
       "      <td>15.0</td>\n",
       "      <td>Douro</td>\n",
       "      <td>NaN</td>\n",
       "      <td>NaN</td>\n",
       "      <td>Roger Voss</td>\n",
       "      <td>@vossroger</td>\n",
       "      <td>Quinta dos Avidagos 2011 Avidagos Red (Douro)</td>\n",
       "      <td>Portuguese Red</td>\n",
       "      <td>Quinta dos Avidagos</td>\n",
       "    </tr>\n",
       "    <tr>\n",
       "      <th>2</th>\n",
       "      <td>US</td>\n",
       "      <td>Tart and snappy, the flavors of lime flesh and...</td>\n",
       "      <td>NaN</td>\n",
       "      <td>87</td>\n",
       "      <td>14.0</td>\n",
       "      <td>Oregon</td>\n",
       "      <td>Willamette Valley</td>\n",
       "      <td>Willamette Valley</td>\n",
       "      <td>Paul Gregutt</td>\n",
       "      <td>@paulgwine</td>\n",
       "      <td>Rainstorm 2013 Pinot Gris (Willamette Valley)</td>\n",
       "      <td>Pinot Gris</td>\n",
       "      <td>Rainstorm</td>\n",
       "    </tr>\n",
       "    <tr>\n",
       "      <th>3</th>\n",
       "      <td>US</td>\n",
       "      <td>Pineapple rind, lemon pith and orange blossom ...</td>\n",
       "      <td>Reserve Late Harvest</td>\n",
       "      <td>87</td>\n",
       "      <td>13.0</td>\n",
       "      <td>Michigan</td>\n",
       "      <td>Lake Michigan Shore</td>\n",
       "      <td>NaN</td>\n",
       "      <td>Alexander Peartree</td>\n",
       "      <td>NaN</td>\n",
       "      <td>St. Julian 2013 Reserve Late Harvest Riesling ...</td>\n",
       "      <td>Riesling</td>\n",
       "      <td>St. Julian</td>\n",
       "    </tr>\n",
       "    <tr>\n",
       "      <th>5</th>\n",
       "      <td>Spain</td>\n",
       "      <td>Blackberry and raspberry aromas show a typical...</td>\n",
       "      <td>Ars In Vitro</td>\n",
       "      <td>87</td>\n",
       "      <td>15.0</td>\n",
       "      <td>Northern Spain</td>\n",
       "      <td>Navarra</td>\n",
       "      <td>NaN</td>\n",
       "      <td>Michael Schachner</td>\n",
       "      <td>@wineschach</td>\n",
       "      <td>Tandem 2011 Ars In Vitro Tempranillo-Merlot (N...</td>\n",
       "      <td>Tempranillo-Merlot</td>\n",
       "      <td>Tandem</td>\n",
       "    </tr>\n",
       "    <tr>\n",
       "      <th>8</th>\n",
       "      <td>Germany</td>\n",
       "      <td>Savory dried thyme notes accent sunnier flavor...</td>\n",
       "      <td>Shine</td>\n",
       "      <td>87</td>\n",
       "      <td>12.0</td>\n",
       "      <td>Rheinhessen</td>\n",
       "      <td>NaN</td>\n",
       "      <td>NaN</td>\n",
       "      <td>Anna Lee C. Iijima</td>\n",
       "      <td>NaN</td>\n",
       "      <td>Heinz Eifel 2013 Shine Gewürztraminer (Rheinhe...</td>\n",
       "      <td>Gewürztraminer</td>\n",
       "      <td>Heinz Eifel</td>\n",
       "    </tr>\n",
       "  </tbody>\n",
       "</table>\n",
       "</div>"
      ],
      "text/plain": [
       "    country                                        description  \\\n",
       "1  Portugal  This is ripe and fruity, a wine that is smooth...   \n",
       "2        US  Tart and snappy, the flavors of lime flesh and...   \n",
       "3        US  Pineapple rind, lemon pith and orange blossom ...   \n",
       "5     Spain  Blackberry and raspberry aromas show a typical...   \n",
       "8   Germany  Savory dried thyme notes accent sunnier flavor...   \n",
       "\n",
       "            designation  points  price        province             region_1  \\\n",
       "1              Avidagos      87   15.0           Douro                  NaN   \n",
       "2                   NaN      87   14.0          Oregon    Willamette Valley   \n",
       "3  Reserve Late Harvest      87   13.0        Michigan  Lake Michigan Shore   \n",
       "5          Ars In Vitro      87   15.0  Northern Spain              Navarra   \n",
       "8                 Shine      87   12.0     Rheinhessen                  NaN   \n",
       "\n",
       "            region_2         taster_name taster_twitter_handle  \\\n",
       "1                NaN          Roger Voss            @vossroger   \n",
       "2  Willamette Valley        Paul Gregutt           @paulgwine    \n",
       "3                NaN  Alexander Peartree                   NaN   \n",
       "5                NaN   Michael Schachner           @wineschach   \n",
       "8                NaN  Anna Lee C. Iijima                   NaN   \n",
       "\n",
       "                                               title             variety  \\\n",
       "1      Quinta dos Avidagos 2011 Avidagos Red (Douro)      Portuguese Red   \n",
       "2      Rainstorm 2013 Pinot Gris (Willamette Valley)          Pinot Gris   \n",
       "3  St. Julian 2013 Reserve Late Harvest Riesling ...            Riesling   \n",
       "5  Tandem 2011 Ars In Vitro Tempranillo-Merlot (N...  Tempranillo-Merlot   \n",
       "8  Heinz Eifel 2013 Shine Gewürztraminer (Rheinhe...      Gewürztraminer   \n",
       "\n",
       "                winery  \n",
       "1  Quinta dos Avidagos  \n",
       "2            Rainstorm  \n",
       "3           St. Julian  \n",
       "5               Tandem  \n",
       "8          Heinz Eifel  "
      ]
     },
     "execution_count": 11,
     "metadata": {},
     "output_type": "execute_result"
    }
   ],
   "source": [
    "sample_reviews = reviews.iloc[[1,2,3,5,8]]\n",
    "\n",
    "# Check your answer\n",
    "q5.check()\n",
    "sample_reviews"
   ]
  },
  {
   "cell_type": "code",
   "execution_count": 12,
   "id": "0b616409",
   "metadata": {
    "execution": {
     "iopub.execute_input": "2025-05-22T18:52:50.619022Z",
     "iopub.status.busy": "2025-05-22T18:52:50.618406Z",
     "iopub.status.idle": "2025-05-22T18:52:50.625650Z",
     "shell.execute_reply": "2025-05-22T18:52:50.625013Z"
    },
    "papermill": {
     "duration": 0.016044,
     "end_time": "2025-05-22T18:52:50.626883",
     "exception": false,
     "start_time": "2025-05-22T18:52:50.610839",
     "status": "completed"
    },
    "tags": []
   },
   "outputs": [
    {
     "data": {
      "application/javascript": [
       "parent.postMessage({\"jupyterEvent\": \"custom.exercise_interaction\", \"data\": {\"interactionType\": 2, \"questionType\": 1, \"questionId\": \"5_SampleReviews\", \"learnToolsVersion\": \"0.3.5\", \"valueTowardsCompletion\": 0.0, \"failureMessage\": \"\", \"exceptionClass\": \"\", \"trace\": \"\", \"outcomeType\": 4}}, \"*\")"
      ],
      "text/plain": [
       "<IPython.core.display.Javascript object>"
      ]
     },
     "metadata": {},
     "output_type": "display_data"
    },
    {
     "data": {
      "text/markdown": [
       "<span style=\"color:#3366cc\">Hint:</span> Use either the `loc` or `iloc` operator to select rows of a DataFrame."
      ],
      "text/plain": [
       "Hint: Use either the `loc` or `iloc` operator to select rows of a DataFrame."
      ]
     },
     "metadata": {},
     "output_type": "display_data"
    },
    {
     "data": {
      "application/javascript": [
       "parent.postMessage({\"jupyterEvent\": \"custom.exercise_interaction\", \"data\": {\"interactionType\": 3, \"questionType\": 1, \"questionId\": \"5_SampleReviews\", \"learnToolsVersion\": \"0.3.5\", \"valueTowardsCompletion\": 0.0, \"failureMessage\": \"\", \"exceptionClass\": \"\", \"trace\": \"\", \"outcomeType\": 4}}, \"*\")"
      ],
      "text/plain": [
       "<IPython.core.display.Javascript object>"
      ]
     },
     "metadata": {},
     "output_type": "display_data"
    },
    {
     "data": {
      "text/markdown": [
       "<span style=\"color:#33cc99\">Solution:</span> \n",
       "```python\n",
       "indices = [1, 2, 3, 5, 8]\n",
       "sample_reviews = reviews.loc[indices]\n",
       "```"
      ],
      "text/plain": [
       "Solution: \n",
       "```python\n",
       "indices = [1, 2, 3, 5, 8]\n",
       "sample_reviews = reviews.loc[indices]\n",
       "```"
      ]
     },
     "metadata": {},
     "output_type": "display_data"
    }
   ],
   "source": [
    "q5.hint()\n",
    "q5.solution()"
   ]
  },
  {
   "cell_type": "markdown",
   "id": "e2e8cdef",
   "metadata": {
    "papermill": {
     "duration": 0.006754,
     "end_time": "2025-05-22T18:52:50.640919",
     "exception": false,
     "start_time": "2025-05-22T18:52:50.634165",
     "status": "completed"
    },
    "tags": []
   },
   "source": [
    "## 6.\n",
    "\n",
    "Create a variable `df` containing the `country`, `province`, `region_1`, and `region_2` columns of the records with the index labels `0`, `1`, `10`, and `100`. In other words, generate the following DataFrame:\n",
    "\n",
    "![](https://storage.googleapis.com/kaggle-media/learn/images/FUCGiKP.png)"
   ]
  },
  {
   "cell_type": "code",
   "execution_count": 13,
   "id": "8c8a7598",
   "metadata": {
    "execution": {
     "iopub.execute_input": "2025-05-22T18:52:50.655499Z",
     "iopub.status.busy": "2025-05-22T18:52:50.655293Z",
     "iopub.status.idle": "2025-05-22T18:52:50.671430Z",
     "shell.execute_reply": "2025-05-22T18:52:50.670794Z"
    },
    "papermill": {
     "duration": 0.02463,
     "end_time": "2025-05-22T18:52:50.672515",
     "exception": false,
     "start_time": "2025-05-22T18:52:50.647885",
     "status": "completed"
    },
    "tags": []
   },
   "outputs": [
    {
     "data": {
      "application/javascript": [
       "parent.postMessage({\"jupyterEvent\": \"custom.exercise_interaction\", \"data\": {\"outcomeType\": 1, \"valueTowardsCompletion\": 0.1111111111111111, \"interactionType\": 1, \"questionType\": 1, \"questionId\": \"6_RowColSelect\", \"learnToolsVersion\": \"0.3.5\", \"failureMessage\": \"\", \"exceptionClass\": \"\", \"trace\": \"\"}}, \"*\")"
      ],
      "text/plain": [
       "<IPython.core.display.Javascript object>"
      ]
     },
     "metadata": {},
     "output_type": "display_data"
    },
    {
     "data": {
      "text/markdown": [
       "<span style=\"color:#33cc33\">Correct</span>"
      ],
      "text/plain": [
       "Correct"
      ]
     },
     "metadata": {},
     "output_type": "display_data"
    },
    {
     "data": {
      "text/html": [
       "<div>\n",
       "<style scoped>\n",
       "    .dataframe tbody tr th:only-of-type {\n",
       "        vertical-align: middle;\n",
       "    }\n",
       "\n",
       "    .dataframe tbody tr th {\n",
       "        vertical-align: top;\n",
       "    }\n",
       "\n",
       "    .dataframe thead th {\n",
       "        text-align: right;\n",
       "    }\n",
       "</style>\n",
       "<table border=\"1\" class=\"dataframe\">\n",
       "  <thead>\n",
       "    <tr style=\"text-align: right;\">\n",
       "      <th></th>\n",
       "      <th>country</th>\n",
       "      <th>province</th>\n",
       "      <th>region_1</th>\n",
       "      <th>region_2</th>\n",
       "    </tr>\n",
       "  </thead>\n",
       "  <tbody>\n",
       "    <tr>\n",
       "      <th>0</th>\n",
       "      <td>Italy</td>\n",
       "      <td>Sicily &amp; Sardinia</td>\n",
       "      <td>Etna</td>\n",
       "      <td>NaN</td>\n",
       "    </tr>\n",
       "    <tr>\n",
       "      <th>1</th>\n",
       "      <td>Portugal</td>\n",
       "      <td>Douro</td>\n",
       "      <td>NaN</td>\n",
       "      <td>NaN</td>\n",
       "    </tr>\n",
       "    <tr>\n",
       "      <th>10</th>\n",
       "      <td>US</td>\n",
       "      <td>California</td>\n",
       "      <td>Napa Valley</td>\n",
       "      <td>Napa</td>\n",
       "    </tr>\n",
       "    <tr>\n",
       "      <th>100</th>\n",
       "      <td>US</td>\n",
       "      <td>New York</td>\n",
       "      <td>Finger Lakes</td>\n",
       "      <td>Finger Lakes</td>\n",
       "    </tr>\n",
       "  </tbody>\n",
       "</table>\n",
       "</div>"
      ],
      "text/plain": [
       "      country           province      region_1      region_2\n",
       "0       Italy  Sicily & Sardinia          Etna           NaN\n",
       "1    Portugal              Douro           NaN           NaN\n",
       "10         US         California   Napa Valley          Napa\n",
       "100        US           New York  Finger Lakes  Finger Lakes"
      ]
     },
     "execution_count": 13,
     "metadata": {},
     "output_type": "execute_result"
    }
   ],
   "source": [
    "df = reviews.loc[[0, 1, 10, 100],['country', 'province', 'region_1', 'region_2']]\n",
    "\n",
    "# Check your answer\n",
    "q6.check()\n",
    "df"
   ]
  },
  {
   "cell_type": "code",
   "execution_count": 14,
   "id": "c0432060",
   "metadata": {
    "execution": {
     "iopub.execute_input": "2025-05-22T18:52:50.687075Z",
     "iopub.status.busy": "2025-05-22T18:52:50.686886Z",
     "iopub.status.idle": "2025-05-22T18:52:50.693814Z",
     "shell.execute_reply": "2025-05-22T18:52:50.693256Z"
    },
    "papermill": {
     "duration": 0.015353,
     "end_time": "2025-05-22T18:52:50.694790",
     "exception": false,
     "start_time": "2025-05-22T18:52:50.679437",
     "status": "completed"
    },
    "tags": []
   },
   "outputs": [
    {
     "data": {
      "application/javascript": [
       "parent.postMessage({\"jupyterEvent\": \"custom.exercise_interaction\", \"data\": {\"interactionType\": 2, \"questionType\": 1, \"questionId\": \"6_RowColSelect\", \"learnToolsVersion\": \"0.3.5\", \"valueTowardsCompletion\": 0.0, \"failureMessage\": \"\", \"exceptionClass\": \"\", \"trace\": \"\", \"outcomeType\": 4}}, \"*\")"
      ],
      "text/plain": [
       "<IPython.core.display.Javascript object>"
      ]
     },
     "metadata": {},
     "output_type": "display_data"
    },
    {
     "data": {
      "text/markdown": [
       "<span style=\"color:#3366cc\">Hint:</span> Use the `loc` operator.  (Note that it is also *possible* to solve this problem using the `iloc` operator, but this would require extra effort to convert each column name to a corresponding integer-valued index.)"
      ],
      "text/plain": [
       "Hint: Use the `loc` operator.  (Note that it is also *possible* to solve this problem using the `iloc` operator, but this would require extra effort to convert each column name to a corresponding integer-valued index.)"
      ]
     },
     "metadata": {},
     "output_type": "display_data"
    },
    {
     "data": {
      "application/javascript": [
       "parent.postMessage({\"jupyterEvent\": \"custom.exercise_interaction\", \"data\": {\"interactionType\": 3, \"questionType\": 1, \"questionId\": \"6_RowColSelect\", \"learnToolsVersion\": \"0.3.5\", \"valueTowardsCompletion\": 0.0, \"failureMessage\": \"\", \"exceptionClass\": \"\", \"trace\": \"\", \"outcomeType\": 4}}, \"*\")"
      ],
      "text/plain": [
       "<IPython.core.display.Javascript object>"
      ]
     },
     "metadata": {},
     "output_type": "display_data"
    },
    {
     "data": {
      "text/markdown": [
       "<span style=\"color:#33cc99\">Solution:</span> \n",
       "```python\n",
       "cols = ['country', 'province', 'region_1', 'region_2']\n",
       "indices = [0, 1, 10, 100]\n",
       "df = reviews.loc[indices, cols]\n",
       "```"
      ],
      "text/plain": [
       "Solution: \n",
       "```python\n",
       "cols = ['country', 'province', 'region_1', 'region_2']\n",
       "indices = [0, 1, 10, 100]\n",
       "df = reviews.loc[indices, cols]\n",
       "```"
      ]
     },
     "metadata": {},
     "output_type": "display_data"
    }
   ],
   "source": [
    "q6.hint()\n",
    "q6.solution()"
   ]
  },
  {
   "cell_type": "markdown",
   "id": "68b0deba",
   "metadata": {
    "papermill": {
     "duration": 0.049729,
     "end_time": "2025-05-22T18:52:50.751665",
     "exception": false,
     "start_time": "2025-05-22T18:52:50.701936",
     "status": "completed"
    },
    "tags": []
   },
   "source": [
    "## 7.\n",
    "\n",
    "Create a variable `df` containing the `country` and `variety` columns of the first 100 records. \n",
    "\n",
    "Hint: you may use `loc` or `iloc`. When working on the answer this question and the several of the ones that follow, keep the following \"gotcha\" described in the tutorial:\n",
    "\n",
    "> `iloc` uses the Python stdlib indexing scheme, where the first element of the range is included and the last one excluded. \n",
    "`loc`, meanwhile, indexes inclusively. \n",
    "\n",
    "> This is particularly confusing when the DataFrame index is a simple numerical list, e.g. `0,...,1000`. In this case `df.iloc[0:1000]` will return 1000 entries, while `df.loc[0:1000]` return 1001 of them! To get 1000 elements using `loc`, you will need to go one lower and ask for `df.iloc[0:999]`. "
   ]
  },
  {
   "cell_type": "code",
   "execution_count": 15,
   "id": "da30c1c9",
   "metadata": {
    "execution": {
     "iopub.execute_input": "2025-05-22T18:52:50.767383Z",
     "iopub.status.busy": "2025-05-22T18:52:50.767133Z",
     "iopub.status.idle": "2025-05-22T18:52:50.778388Z",
     "shell.execute_reply": "2025-05-22T18:52:50.777788Z"
    },
    "papermill": {
     "duration": 0.020431,
     "end_time": "2025-05-22T18:52:50.779419",
     "exception": false,
     "start_time": "2025-05-22T18:52:50.758988",
     "status": "completed"
    },
    "tags": []
   },
   "outputs": [
    {
     "data": {
      "application/javascript": [
       "parent.postMessage({\"jupyterEvent\": \"custom.exercise_interaction\", \"data\": {\"outcomeType\": 1, \"valueTowardsCompletion\": 0.1111111111111111, \"interactionType\": 1, \"questionType\": 1, \"questionId\": \"7_RowColSelect2\", \"learnToolsVersion\": \"0.3.5\", \"failureMessage\": \"\", \"exceptionClass\": \"\", \"trace\": \"\"}}, \"*\")"
      ],
      "text/plain": [
       "<IPython.core.display.Javascript object>"
      ]
     },
     "metadata": {},
     "output_type": "display_data"
    },
    {
     "data": {
      "text/markdown": [
       "<span style=\"color:#33cc33\">Correct:</span> \n",
       "\n",
       "\n",
       "```python\n",
       "cols = ['country', 'variety']\n",
       "df = reviews.loc[:99, cols]\n",
       "```\n",
       "or \n",
       "```python\n",
       "cols_idx = [0, 11]\n",
       "df = reviews.iloc[:100, cols_idx]\n",
       "```\n"
      ],
      "text/plain": [
       "Correct: \n",
       "\n",
       "\n",
       "```python\n",
       "cols = ['country', 'variety']\n",
       "df = reviews.loc[:99, cols]\n",
       "```\n",
       "or \n",
       "```python\n",
       "cols_idx = [0, 11]\n",
       "df = reviews.iloc[:100, cols_idx]\n",
       "```"
      ]
     },
     "metadata": {},
     "output_type": "display_data"
    },
    {
     "data": {
      "text/html": [
       "<div>\n",
       "<style scoped>\n",
       "    .dataframe tbody tr th:only-of-type {\n",
       "        vertical-align: middle;\n",
       "    }\n",
       "\n",
       "    .dataframe tbody tr th {\n",
       "        vertical-align: top;\n",
       "    }\n",
       "\n",
       "    .dataframe thead th {\n",
       "        text-align: right;\n",
       "    }\n",
       "</style>\n",
       "<table border=\"1\" class=\"dataframe\">\n",
       "  <thead>\n",
       "    <tr style=\"text-align: right;\">\n",
       "      <th></th>\n",
       "      <th>country</th>\n",
       "      <th>variety</th>\n",
       "    </tr>\n",
       "  </thead>\n",
       "  <tbody>\n",
       "    <tr>\n",
       "      <th>0</th>\n",
       "      <td>Italy</td>\n",
       "      <td>White Blend</td>\n",
       "    </tr>\n",
       "    <tr>\n",
       "      <th>1</th>\n",
       "      <td>Portugal</td>\n",
       "      <td>Portuguese Red</td>\n",
       "    </tr>\n",
       "    <tr>\n",
       "      <th>...</th>\n",
       "      <td>...</td>\n",
       "      <td>...</td>\n",
       "    </tr>\n",
       "    <tr>\n",
       "      <th>98</th>\n",
       "      <td>Italy</td>\n",
       "      <td>Sangiovese</td>\n",
       "    </tr>\n",
       "    <tr>\n",
       "      <th>99</th>\n",
       "      <td>US</td>\n",
       "      <td>Bordeaux-style Red Blend</td>\n",
       "    </tr>\n",
       "  </tbody>\n",
       "</table>\n",
       "<p>100 rows × 2 columns</p>\n",
       "</div>"
      ],
      "text/plain": [
       "     country                   variety\n",
       "0      Italy               White Blend\n",
       "1   Portugal            Portuguese Red\n",
       "..       ...                       ...\n",
       "98     Italy                Sangiovese\n",
       "99        US  Bordeaux-style Red Blend\n",
       "\n",
       "[100 rows x 2 columns]"
      ]
     },
     "execution_count": 15,
     "metadata": {},
     "output_type": "execute_result"
    }
   ],
   "source": [
    "df = reviews.loc[:99,['country','variety']]\n",
    "\n",
    "# Check your answer\n",
    "q7.check()\n",
    "df"
   ]
  },
  {
   "cell_type": "code",
   "execution_count": 16,
   "id": "4d3675e9",
   "metadata": {
    "execution": {
     "iopub.execute_input": "2025-05-22T18:52:50.795072Z",
     "iopub.status.busy": "2025-05-22T18:52:50.794884Z",
     "iopub.status.idle": "2025-05-22T18:52:50.797715Z",
     "shell.execute_reply": "2025-05-22T18:52:50.797053Z"
    },
    "papermill": {
     "duration": 0.011881,
     "end_time": "2025-05-22T18:52:50.798763",
     "exception": false,
     "start_time": "2025-05-22T18:52:50.786882",
     "status": "completed"
    },
    "tags": []
   },
   "outputs": [],
   "source": [
    "#q7.hint()\n",
    "#q7.solution()"
   ]
  },
  {
   "cell_type": "markdown",
   "id": "8767f9e9",
   "metadata": {
    "papermill": {
     "duration": 0.007243,
     "end_time": "2025-05-22T18:52:50.813410",
     "exception": false,
     "start_time": "2025-05-22T18:52:50.806167",
     "status": "completed"
    },
    "tags": []
   },
   "source": [
    "## 8.\n",
    "\n",
    "Create a DataFrame `italian_wines` containing reviews of wines made in `Italy`. Hint: `reviews.country` equals what?"
   ]
  },
  {
   "cell_type": "code",
   "execution_count": 17,
   "id": "1701715b",
   "metadata": {
    "execution": {
     "iopub.execute_input": "2025-05-22T18:52:50.828804Z",
     "iopub.status.busy": "2025-05-22T18:52:50.828616Z",
     "iopub.status.idle": "2025-05-22T18:52:50.846916Z",
     "shell.execute_reply": "2025-05-22T18:52:50.846380Z"
    },
    "papermill": {
     "duration": 0.027141,
     "end_time": "2025-05-22T18:52:50.847902",
     "exception": false,
     "start_time": "2025-05-22T18:52:50.820761",
     "status": "completed"
    },
    "tags": []
   },
   "outputs": [
    {
     "data": {
      "application/javascript": [
       "parent.postMessage({\"jupyterEvent\": \"custom.exercise_interaction\", \"data\": {\"outcomeType\": 1, \"valueTowardsCompletion\": 0.1111111111111111, \"interactionType\": 1, \"questionType\": 1, \"questionId\": \"8_ItalianWines\", \"learnToolsVersion\": \"0.3.5\", \"failureMessage\": \"\", \"exceptionClass\": \"\", \"trace\": \"\"}}, \"*\")"
      ],
      "text/plain": [
       "<IPython.core.display.Javascript object>"
      ]
     },
     "metadata": {},
     "output_type": "display_data"
    },
    {
     "data": {
      "text/markdown": [
       "<span style=\"color:#33cc33\">Correct</span>"
      ],
      "text/plain": [
       "Correct"
      ]
     },
     "metadata": {},
     "output_type": "display_data"
    }
   ],
   "source": [
    "italian_wines = reviews[reviews.country == 'Italy']\n",
    "\n",
    "# Check your answer\n",
    "q8.check()"
   ]
  },
  {
   "cell_type": "code",
   "execution_count": 18,
   "id": "bf9e02ae",
   "metadata": {
    "execution": {
     "iopub.execute_input": "2025-05-22T18:52:50.864203Z",
     "iopub.status.busy": "2025-05-22T18:52:50.864007Z",
     "iopub.status.idle": "2025-05-22T18:52:50.870788Z",
     "shell.execute_reply": "2025-05-22T18:52:50.870248Z"
    },
    "papermill": {
     "duration": 0.01609,
     "end_time": "2025-05-22T18:52:50.871871",
     "exception": false,
     "start_time": "2025-05-22T18:52:50.855781",
     "status": "completed"
    },
    "tags": []
   },
   "outputs": [
    {
     "data": {
      "application/javascript": [
       "parent.postMessage({\"jupyterEvent\": \"custom.exercise_interaction\", \"data\": {\"interactionType\": 2, \"questionType\": 1, \"questionId\": \"8_ItalianWines\", \"learnToolsVersion\": \"0.3.5\", \"valueTowardsCompletion\": 0.0, \"failureMessage\": \"\", \"exceptionClass\": \"\", \"trace\": \"\", \"outcomeType\": 4}}, \"*\")"
      ],
      "text/plain": [
       "<IPython.core.display.Javascript object>"
      ]
     },
     "metadata": {},
     "output_type": "display_data"
    },
    {
     "data": {
      "text/markdown": [
       "<span style=\"color:#3366cc\">Hint:</span> For more information, see the section on **Conditional selection** in the [reference component](https://www.kaggle.com/residentmario/indexing-selecting-assigning-reference)."
      ],
      "text/plain": [
       "Hint: For more information, see the section on **Conditional selection** in the [reference component](https://www.kaggle.com/residentmario/indexing-selecting-assigning-reference)."
      ]
     },
     "metadata": {},
     "output_type": "display_data"
    },
    {
     "data": {
      "application/javascript": [
       "parent.postMessage({\"jupyterEvent\": \"custom.exercise_interaction\", \"data\": {\"interactionType\": 3, \"questionType\": 1, \"questionId\": \"8_ItalianWines\", \"learnToolsVersion\": \"0.3.5\", \"valueTowardsCompletion\": 0.0, \"failureMessage\": \"\", \"exceptionClass\": \"\", \"trace\": \"\", \"outcomeType\": 4}}, \"*\")"
      ],
      "text/plain": [
       "<IPython.core.display.Javascript object>"
      ]
     },
     "metadata": {},
     "output_type": "display_data"
    },
    {
     "data": {
      "text/markdown": [
       "<span style=\"color:#33cc99\">Solution:</span> \n",
       "```python\n",
       "italian_wines = reviews[reviews.country == 'Italy']\n",
       "```"
      ],
      "text/plain": [
       "Solution: \n",
       "```python\n",
       "italian_wines = reviews[reviews.country == 'Italy']\n",
       "```"
      ]
     },
     "metadata": {},
     "output_type": "display_data"
    }
   ],
   "source": [
    "q8.hint()\n",
    "q8.solution()"
   ]
  },
  {
   "cell_type": "markdown",
   "id": "60e88e7c",
   "metadata": {
    "papermill": {
     "duration": 0.008367,
     "end_time": "2025-05-22T18:52:50.888698",
     "exception": false,
     "start_time": "2025-05-22T18:52:50.880331",
     "status": "completed"
    },
    "tags": []
   },
   "source": [
    "## 9.\n",
    "\n",
    "Create a DataFrame `top_oceania_wines` containing all reviews with at least 95 points (out of 100) for wines from Australia or New Zealand."
   ]
  },
  {
   "cell_type": "code",
   "execution_count": 19,
   "id": "06be52cf",
   "metadata": {
    "execution": {
     "iopub.execute_input": "2025-05-22T18:52:50.905756Z",
     "iopub.status.busy": "2025-05-22T18:52:50.905547Z",
     "iopub.status.idle": "2025-05-22T18:52:50.922527Z",
     "shell.execute_reply": "2025-05-22T18:52:50.922021Z"
    },
    "papermill": {
     "duration": 0.026814,
     "end_time": "2025-05-22T18:52:50.923637",
     "exception": false,
     "start_time": "2025-05-22T18:52:50.896823",
     "status": "completed"
    },
    "tags": []
   },
   "outputs": [
    {
     "data": {
      "application/javascript": [
       "parent.postMessage({\"jupyterEvent\": \"custom.exercise_interaction\", \"data\": {\"outcomeType\": 1, \"valueTowardsCompletion\": 0.1111111111111111, \"interactionType\": 1, \"questionType\": 1, \"questionId\": \"9_TopOceanicWines\", \"learnToolsVersion\": \"0.3.5\", \"failureMessage\": \"\", \"exceptionClass\": \"\", \"trace\": \"\"}}, \"*\")"
      ],
      "text/plain": [
       "<IPython.core.display.Javascript object>"
      ]
     },
     "metadata": {},
     "output_type": "display_data"
    },
    {
     "data": {
      "text/markdown": [
       "<span style=\"color:#33cc33\">Correct</span>"
      ],
      "text/plain": [
       "Correct"
      ]
     },
     "metadata": {},
     "output_type": "display_data"
    },
    {
     "data": {
      "text/html": [
       "<div>\n",
       "<style scoped>\n",
       "    .dataframe tbody tr th:only-of-type {\n",
       "        vertical-align: middle;\n",
       "    }\n",
       "\n",
       "    .dataframe tbody tr th {\n",
       "        vertical-align: top;\n",
       "    }\n",
       "\n",
       "    .dataframe thead th {\n",
       "        text-align: right;\n",
       "    }\n",
       "</style>\n",
       "<table border=\"1\" class=\"dataframe\">\n",
       "  <thead>\n",
       "    <tr style=\"text-align: right;\">\n",
       "      <th></th>\n",
       "      <th>country</th>\n",
       "      <th>description</th>\n",
       "      <th>designation</th>\n",
       "      <th>points</th>\n",
       "      <th>price</th>\n",
       "      <th>province</th>\n",
       "      <th>region_1</th>\n",
       "      <th>region_2</th>\n",
       "      <th>taster_name</th>\n",
       "      <th>taster_twitter_handle</th>\n",
       "      <th>title</th>\n",
       "      <th>variety</th>\n",
       "      <th>winery</th>\n",
       "    </tr>\n",
       "  </thead>\n",
       "  <tbody>\n",
       "    <tr>\n",
       "      <th>345</th>\n",
       "      <td>Australia</td>\n",
       "      <td>This wine contains some material over 100 year...</td>\n",
       "      <td>Rare</td>\n",
       "      <td>100</td>\n",
       "      <td>350.0</td>\n",
       "      <td>Victoria</td>\n",
       "      <td>Rutherglen</td>\n",
       "      <td>NaN</td>\n",
       "      <td>Joe Czerwinski</td>\n",
       "      <td>@JoeCz</td>\n",
       "      <td>Chambers Rosewood Vineyards NV Rare Muscat (Ru...</td>\n",
       "      <td>Muscat</td>\n",
       "      <td>Chambers Rosewood Vineyards</td>\n",
       "    </tr>\n",
       "    <tr>\n",
       "      <th>346</th>\n",
       "      <td>Australia</td>\n",
       "      <td>This deep brown wine smells like a damp, mossy...</td>\n",
       "      <td>Rare</td>\n",
       "      <td>98</td>\n",
       "      <td>350.0</td>\n",
       "      <td>Victoria</td>\n",
       "      <td>Rutherglen</td>\n",
       "      <td>NaN</td>\n",
       "      <td>Joe Czerwinski</td>\n",
       "      <td>@JoeCz</td>\n",
       "      <td>Chambers Rosewood Vineyards NV Rare Muscadelle...</td>\n",
       "      <td>Muscadelle</td>\n",
       "      <td>Chambers Rosewood Vineyards</td>\n",
       "    </tr>\n",
       "    <tr>\n",
       "      <th>...</th>\n",
       "      <td>...</td>\n",
       "      <td>...</td>\n",
       "      <td>...</td>\n",
       "      <td>...</td>\n",
       "      <td>...</td>\n",
       "      <td>...</td>\n",
       "      <td>...</td>\n",
       "      <td>...</td>\n",
       "      <td>...</td>\n",
       "      <td>...</td>\n",
       "      <td>...</td>\n",
       "      <td>...</td>\n",
       "      <td>...</td>\n",
       "    </tr>\n",
       "    <tr>\n",
       "      <th>122507</th>\n",
       "      <td>New Zealand</td>\n",
       "      <td>This blend of Cabernet Sauvignon (62.5%), Merl...</td>\n",
       "      <td>SQM Gimblett Gravels Cabernets/Merlot</td>\n",
       "      <td>95</td>\n",
       "      <td>79.0</td>\n",
       "      <td>Hawke's Bay</td>\n",
       "      <td>NaN</td>\n",
       "      <td>NaN</td>\n",
       "      <td>Joe Czerwinski</td>\n",
       "      <td>@JoeCz</td>\n",
       "      <td>Squawking Magpie 2014 SQM Gimblett Gravels Cab...</td>\n",
       "      <td>Bordeaux-style Red Blend</td>\n",
       "      <td>Squawking Magpie</td>\n",
       "    </tr>\n",
       "    <tr>\n",
       "      <th>122939</th>\n",
       "      <td>Australia</td>\n",
       "      <td>Full-bodied and plush yet vibrant and imbued w...</td>\n",
       "      <td>The Factor</td>\n",
       "      <td>98</td>\n",
       "      <td>125.0</td>\n",
       "      <td>South Australia</td>\n",
       "      <td>Barossa Valley</td>\n",
       "      <td>NaN</td>\n",
       "      <td>Joe Czerwinski</td>\n",
       "      <td>@JoeCz</td>\n",
       "      <td>Torbreck 2013 The Factor Shiraz (Barossa Valley)</td>\n",
       "      <td>Shiraz</td>\n",
       "      <td>Torbreck</td>\n",
       "    </tr>\n",
       "  </tbody>\n",
       "</table>\n",
       "<p>49 rows × 13 columns</p>\n",
       "</div>"
      ],
      "text/plain": [
       "            country                                        description  \\\n",
       "345       Australia  This wine contains some material over 100 year...   \n",
       "346       Australia  This deep brown wine smells like a damp, mossy...   \n",
       "...             ...                                                ...   \n",
       "122507  New Zealand  This blend of Cabernet Sauvignon (62.5%), Merl...   \n",
       "122939    Australia  Full-bodied and plush yet vibrant and imbued w...   \n",
       "\n",
       "                                  designation  points  price         province  \\\n",
       "345                                      Rare     100  350.0         Victoria   \n",
       "346                                      Rare      98  350.0         Victoria   \n",
       "...                                       ...     ...    ...              ...   \n",
       "122507  SQM Gimblett Gravels Cabernets/Merlot      95   79.0      Hawke's Bay   \n",
       "122939                             The Factor      98  125.0  South Australia   \n",
       "\n",
       "              region_1 region_2     taster_name taster_twitter_handle  \\\n",
       "345         Rutherglen      NaN  Joe Czerwinski                @JoeCz   \n",
       "346         Rutherglen      NaN  Joe Czerwinski                @JoeCz   \n",
       "...                ...      ...             ...                   ...   \n",
       "122507             NaN      NaN  Joe Czerwinski                @JoeCz   \n",
       "122939  Barossa Valley      NaN  Joe Czerwinski                @JoeCz   \n",
       "\n",
       "                                                    title  \\\n",
       "345     Chambers Rosewood Vineyards NV Rare Muscat (Ru...   \n",
       "346     Chambers Rosewood Vineyards NV Rare Muscadelle...   \n",
       "...                                                   ...   \n",
       "122507  Squawking Magpie 2014 SQM Gimblett Gravels Cab...   \n",
       "122939   Torbreck 2013 The Factor Shiraz (Barossa Valley)   \n",
       "\n",
       "                         variety                       winery  \n",
       "345                       Muscat  Chambers Rosewood Vineyards  \n",
       "346                   Muscadelle  Chambers Rosewood Vineyards  \n",
       "...                          ...                          ...  \n",
       "122507  Bordeaux-style Red Blend             Squawking Magpie  \n",
       "122939                    Shiraz                     Torbreck  \n",
       "\n",
       "[49 rows x 13 columns]"
      ]
     },
     "execution_count": 19,
     "metadata": {},
     "output_type": "execute_result"
    }
   ],
   "source": [
    "top_oceania_wines =reviews.loc[ (reviews.country.isin(['Australia', 'New Zealand'])) &  (reviews.points >= 95)]\n",
    "\n",
    "\n",
    "# Check your answer\n",
    "q9.check()\n",
    "top_oceania_wines"
   ]
  },
  {
   "cell_type": "code",
   "execution_count": 20,
   "id": "f6f660aa",
   "metadata": {
    "execution": {
     "iopub.execute_input": "2025-05-22T18:52:50.941458Z",
     "iopub.status.busy": "2025-05-22T18:52:50.941271Z",
     "iopub.status.idle": "2025-05-22T18:52:50.948409Z",
     "shell.execute_reply": "2025-05-22T18:52:50.947783Z"
    },
    "papermill": {
     "duration": 0.017499,
     "end_time": "2025-05-22T18:52:50.949558",
     "exception": false,
     "start_time": "2025-05-22T18:52:50.932059",
     "status": "completed"
    },
    "tags": []
   },
   "outputs": [
    {
     "data": {
      "application/javascript": [
       "parent.postMessage({\"jupyterEvent\": \"custom.exercise_interaction\", \"data\": {\"interactionType\": 2, \"questionType\": 1, \"questionId\": \"9_TopOceanicWines\", \"learnToolsVersion\": \"0.3.5\", \"valueTowardsCompletion\": 0.0, \"failureMessage\": \"\", \"exceptionClass\": \"\", \"trace\": \"\", \"outcomeType\": 4}}, \"*\")"
      ],
      "text/plain": [
       "<IPython.core.display.Javascript object>"
      ]
     },
     "metadata": {},
     "output_type": "display_data"
    },
    {
     "data": {
      "text/markdown": [
       "<span style=\"color:#3366cc\">Hint:</span> For more information, see the section on **Conditional selection** in the [reference component](https://www.kaggle.com/residentmario/indexing-selecting-assigning-reference)."
      ],
      "text/plain": [
       "Hint: For more information, see the section on **Conditional selection** in the [reference component](https://www.kaggle.com/residentmario/indexing-selecting-assigning-reference)."
      ]
     },
     "metadata": {},
     "output_type": "display_data"
    },
    {
     "data": {
      "application/javascript": [
       "parent.postMessage({\"jupyterEvent\": \"custom.exercise_interaction\", \"data\": {\"interactionType\": 3, \"questionType\": 1, \"questionId\": \"9_TopOceanicWines\", \"learnToolsVersion\": \"0.3.5\", \"valueTowardsCompletion\": 0.0, \"failureMessage\": \"\", \"exceptionClass\": \"\", \"trace\": \"\", \"outcomeType\": 4}}, \"*\")"
      ],
      "text/plain": [
       "<IPython.core.display.Javascript object>"
      ]
     },
     "metadata": {},
     "output_type": "display_data"
    },
    {
     "data": {
      "text/markdown": [
       "<span style=\"color:#33cc99\">Solution:</span> \n",
       "```python\n",
       "top_oceania_wines = reviews.loc[\n",
       "    (reviews.country.isin(['Australia', 'New Zealand']))\n",
       "    & (reviews.points >= 95)\n",
       "]\n",
       "```"
      ],
      "text/plain": [
       "Solution: \n",
       "```python\n",
       "top_oceania_wines = reviews.loc[\n",
       "    (reviews.country.isin(['Australia', 'New Zealand']))\n",
       "    & (reviews.points >= 95)\n",
       "]\n",
       "```"
      ]
     },
     "metadata": {},
     "output_type": "display_data"
    }
   ],
   "source": [
    "q9.hint()\n",
    "q9.solution()"
   ]
  },
  {
   "cell_type": "markdown",
   "id": "022fb147",
   "metadata": {
    "papermill": {
     "duration": 0.008442,
     "end_time": "2025-05-22T18:52:50.966449",
     "exception": false,
     "start_time": "2025-05-22T18:52:50.958007",
     "status": "completed"
    },
    "tags": []
   },
   "source": [
    "# Keep going\n",
    "\n",
    "Move on to learn about **[summary functions and maps](https://www.kaggle.com/residentmario/summary-functions-and-maps)**."
   ]
  },
  {
   "cell_type": "markdown",
   "id": "c1217c41",
   "metadata": {
    "papermill": {
     "duration": 0.00851,
     "end_time": "2025-05-22T18:52:50.983549",
     "exception": false,
     "start_time": "2025-05-22T18:52:50.975039",
     "status": "completed"
    },
    "tags": []
   },
   "source": [
    "---\n",
    "\n",
    "\n",
    "\n",
    "\n",
    "*Have questions or comments? Visit the [course discussion forum](https://www.kaggle.com/learn/pandas/discussion) to chat with other learners.*"
   ]
  }
 ],
 "metadata": {
  "kaggle": {
   "accelerator": "gpu",
   "dataSources": [
    {
     "datasetId": 655,
     "sourceId": 1252,
     "sourceType": "datasetVersion"
    },
    {
     "datasetId": 2321,
     "sourceId": 3919,
     "sourceType": "datasetVersion"
    },
    {
     "datasetId": 2894,
     "sourceId": 4877,
     "sourceType": "datasetVersion"
    },
    {
     "datasetId": 3491,
     "sourceId": 5624,
     "sourceType": "datasetVersion"
    },
    {
     "datasetId": 1442,
     "sourceId": 8172,
     "sourceType": "datasetVersion"
    },
    {
     "datasetId": 9366,
     "sourceId": 13206,
     "sourceType": "datasetVersion"
    },
    {
     "datasetId": 179555,
     "sourceId": 403916,
     "sourceType": "datasetVersion"
    },
    {
     "datasetId": 4549,
     "sourceId": 466349,
     "sourceType": "datasetVersion"
    },
    {
     "datasetId": 2478,
     "sourceId": 1151655,
     "sourceType": "datasetVersion"
    },
    {
     "datasetId": 10128,
     "sourceId": 5438389,
     "sourceType": "datasetVersion"
    }
   ],
   "isGpuEnabled": true,
   "isInternetEnabled": false,
   "language": "python",
   "sourceType": "notebook"
  },
  "kernelspec": {
   "display_name": "Python 3",
   "language": "python",
   "name": "python3"
  },
  "language_info": {
   "codemirror_mode": {
    "name": "ipython",
    "version": 3
   },
   "file_extension": ".py",
   "mimetype": "text/x-python",
   "name": "python",
   "nbconvert_exporter": "python",
   "pygments_lexer": "ipython3",
   "version": "3.11.11"
  },
  "papermill": {
   "default_parameters": {},
   "duration": 9.069419,
   "end_time": "2025-05-22T18:52:51.408579",
   "environment_variables": {},
   "exception": null,
   "input_path": "__notebook__.ipynb",
   "output_path": "__notebook__.ipynb",
   "parameters": {},
   "start_time": "2025-05-22T18:52:42.339160",
   "version": "2.6.0"
  }
 },
 "nbformat": 4,
 "nbformat_minor": 5
}
